{
 "cells": [
  {
   "cell_type": "code",
   "execution_count": 1,
   "id": "22455b67-1fab-46d5-bc6a-09d0763e1003",
   "metadata": {},
   "outputs": [],
   "source": [
    "import cv2\n",
    "import torch\n",
    "import pandas as pd\n",
    "import os\n",
    "from ultralytics import YOLO"
   ]
  },
  {
   "cell_type": "code",
   "execution_count": 5,
   "id": "85923803-5330-4561-ab7f-6227ad306a76",
   "metadata": {},
   "outputs": [],
   "source": [
    "device = \"cuda\" if torch.cuda.is_available() else \"cpu\"\n",
    "\n",
    "model = YOLO(\"yolov8n.pt\").to(device)\n",
    "\n",
    "recordings_path = \"recordings\"  # Исходные видео\n",
    "timestamps_path = \"timestamps\"  # Куда сохранять результаты\n",
    "\n",
    "frame_rate = 15  # ФПС видео\n",
    "frame_interval = 5  # Запись раз в 0.33 секунд"
   ]
  },
  {
   "cell_type": "code",
   "execution_count": null,
   "id": "d77f076a-cf93-43d3-a844-02656aa5c6a5",
   "metadata": {},
   "outputs": [
    {
     "name": "stdout",
     "output_type": "stream",
     "text": [
      "Processing all videos...\n",
      "Processing: recordings/camera4/camera4_20250317_094552.mp4\n",
      "Saved: timestamps/camera4/camera4_20250317_094552.csv, timestamps/camera4/camera4_20250317_094552.txt\n",
      "Processing: recordings/camera4/camera4_20250317_043858.mp4\n",
      "Saved: timestamps/camera4/camera4_20250317_043858.csv, timestamps/camera4/camera4_20250317_043858.txt\n",
      "Processing: recordings/camera4/camera4_20250317_064546.mp4\n"
     ]
    }
   ],
   "source": [
    "print(\"Processing all videos...\")\n",
    "\n",
    "for root, _, files in os.walk(recordings_path):\n",
    "    for file in files:\n",
    "        if file.endswith(\".mp4\"): \n",
    "            video_path = os.path.join(root, file)\n",
    "\n",
    "            relative_path = os.path.relpath(root, recordings_path)\n",
    "            output_folder = os.path.join(timestamps_path, relative_path)\n",
    "            os.makedirs(output_folder, exist_ok=True)\n",
    "\n",
    "            # Пути для сохранения результатов\n",
    "            output_csv = os.path.join(output_folder, f\"{os.path.splitext(file)[0]}.csv\")\n",
    "            output_txt = os.path.join(output_folder, f\"{os.path.splitext(file)[0]}.txt\")\n",
    "\n",
    "            cap = cv2.VideoCapture(video_path)\n",
    "            frame_count = 0\n",
    "            results_list = []\n",
    "\n",
    "            print(f\"Processing: {video_path}\")\n",
    "\n",
    "            while cap.isOpened():\n",
    "                ret, frame = cap.read()\n",
    "                if not ret:\n",
    "                    break\n",
    "\n",
    "                if frame_count % frame_interval == 0:\n",
    "                    results = model(frame, verbose=False)\n",
    "\n",
    "                    people_count = sum(1 for obj in results[0].boxes.cls if obj == 0)  # Класс \"человек\" = 0\n",
    "\n",
    "                    time_sec = frame_count / frame_rate\n",
    "                    results_list.append([frame_count, time_sec, people_count])\n",
    "\n",
    "                frame_count += 1\n",
    "\n",
    "            cap.release()\n",
    "\n",
    "            # Сохраняем в CSV\n",
    "            df = pd.DataFrame(results_list, columns=[\"Frame\", \"Time (s)\", \"People Count\"])\n",
    "            df.to_csv(output_csv, index=False)\n",
    "\n",
    "            # Сохраняем в TXT\n",
    "            with open(output_txt, \"w\") as f:\n",
    "                for row in results_list:\n",
    "                    f.write(f\"{row[0]} {row[1]:.2f} {row[2]}\\n\")\n",
    "\n",
    "            print(f\"Saved: {output_csv}, {output_txt}\")\n",
    "\n",
    "print(\"Processing complete!\")"
   ]
  },
  {
   "cell_type": "code",
   "execution_count": null,
   "id": "b749fb1a-1870-48f9-a3ec-69ce2dcd0ddc",
   "metadata": {},
   "outputs": [],
   "source": []
  }
 ],
 "metadata": {
  "kernelspec": {
   "display_name": "Python 3 (ipykernel)",
   "language": "python",
   "name": "python3"
  },
  "language_info": {
   "codemirror_mode": {
    "name": "ipython",
    "version": 3
   },
   "file_extension": ".py",
   "mimetype": "text/x-python",
   "name": "python",
   "nbconvert_exporter": "python",
   "pygments_lexer": "ipython3",
   "version": "3.10.12"
  }
 },
 "nbformat": 4,
 "nbformat_minor": 5
}
