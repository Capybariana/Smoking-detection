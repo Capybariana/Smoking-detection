{
 "cells": [
  {
   "cell_type": "code",
   "execution_count": 1,
   "id": "2b4503f7-6c15-483c-b5e4-c2ea37195547",
   "metadata": {},
   "outputs": [],
   "source": [
    "import os\n",
    "import pandas as pd\n",
    "from pathlib import Path\n",
    "from moviepy.editor import VideoFileClip"
   ]
  },
  {
   "cell_type": "code",
   "execution_count": 2,
   "id": "efff40ec-33aa-4d35-872d-82f90bd1ca2e",
   "metadata": {},
   "outputs": [],
   "source": [
    "def extract_segments(csv_path, video_path, output_dir):\n",
    "    df = pd.read_csv(csv_path)\n",
    "\n",
    "    people_counts = df['People Count'].tolist()\n",
    "    times = df['Time (s)'].tolist()\n",
    "\n",
    "    segments = []\n",
    "    start_idx = None\n",
    "    people_streak = 0\n",
    "    zero_streak = 0\n",
    "\n",
    "    for i in range(len(people_counts)):\n",
    "        if people_counts[i] > 0:\n",
    "            people_streak += 1\n",
    "            zero_streak = 0\n",
    "        else:\n",
    "            zero_streak += 1\n",
    "            if zero_streak > 5:\n",
    "                if start_idx is not None:\n",
    "                    segments.append((times[start_idx], times[i]))\n",
    "                    start_idx = None\n",
    "                zero_streak = 0\n",
    "                people_streak = 0\n",
    "\n",
    "        if people_streak > 5 and start_idx is None:\n",
    "            start_idx = i - 5\n",
    "\n",
    "    if start_idx is not None:\n",
    "        segments.append((times[start_idx], times[-1]))\n",
    "\n",
    "    if not segments:\n",
    "        return\n",
    "\n",
    "    os.makedirs(output_dir, exist_ok=True)\n",
    "    base_name = Path(video_path).stem\n",
    "\n",
    "    with VideoFileClip(video_path) as video:\n",
    "        for idx, (start, end) in enumerate(segments, 1):\n",
    "            output_file = os.path.join(output_dir, f\"{base_name}_{idx}.webm\")\n",
    "\n",
    "            clip = video.subclip(start, end)\n",
    "            clip.write_videofile(output_file, codec='libvpx', audio_codec='libvorbis', verbose=False, logger=None)\n",
    "            print(f\"Saved segment: {output_file}\")"
   ]
  },
  {
   "cell_type": "code",
   "execution_count": null,
   "id": "599c2c95-0305-4b9a-b7e1-0b41ada720d5",
   "metadata": {},
   "outputs": [
    {
     "name": "stdout",
     "output_type": "stream",
     "text": [
      "Saved segment: cropped/camera1/camera1_20250317_043858_1.webm\n",
      "Saved segment: cropped/camera1/camera1_20250317_094552_1.webm\n",
      "Saved segment: cropped/camera1/camera1_20250317_094552_2.webm\n",
      "Saved segment: cropped/camera1/camera1_20250317_094552_3.webm\n",
      "Saved segment: cropped/camera1/camera1_20250317_094552_4.webm\n",
      "Saved segment: cropped/camera1/camera1_20250317_094552_5.webm\n",
      "Saved segment: cropped/camera1/camera1_20250317_094552_6.webm\n",
      "Saved segment: cropped/camera1/camera1_20250317_094552_7.webm\n",
      "Saved segment: cropped/camera1/camera1_20250317_094552_8.webm\n"
     ]
    }
   ],
   "source": [
    "def main():\n",
    "    recordings_dir = \"recordings\"\n",
    "    timestamps_dir = \"timestamps\"\n",
    "    cropped_dir = \"cropped\"\n",
    "\n",
    "    for cam in range(1, 6):\n",
    "        cam_folder = f\"camera{cam}\"\n",
    "        cam_path = os.path.join(recordings_dir, cam_folder)\n",
    "        out_path = os.path.join(cropped_dir, cam_folder)\n",
    "        timestamp_path = os.path.join(timestamps_dir, cam_folder)\n",
    "\n",
    "        if not os.path.exists(cam_path) or not os.path.exists(timestamp_path):\n",
    "            continue\n",
    "\n",
    "        for file in os.listdir(cam_path):\n",
    "            if file.endswith(\".mp4\"):\n",
    "                video_path = os.path.join(cam_path, file)\n",
    "                csv_path = os.path.join(timestamp_path, Path(file).stem + \".csv\")\n",
    "\n",
    "                if os.path.exists(csv_path):\n",
    "                    extract_segments(csv_path, video_path, out_path)\n",
    "\n",
    "\n",
    "if __name__ == \"__main__\":\n",
    "    main()"
   ]
  },
  {
   "cell_type": "code",
   "execution_count": null,
   "id": "509bb86e-c32e-4449-8539-73fd35d06e30",
   "metadata": {},
   "outputs": [],
   "source": []
  }
 ],
 "metadata": {
  "kernelspec": {
   "display_name": "Python 3 (ipykernel)",
   "language": "python",
   "name": "python3"
  },
  "language_info": {
   "codemirror_mode": {
    "name": "ipython",
    "version": 3
   },
   "file_extension": ".py",
   "mimetype": "text/x-python",
   "name": "python",
   "nbconvert_exporter": "python",
   "pygments_lexer": "ipython3",
   "version": "3.10.12"
  }
 },
 "nbformat": 4,
 "nbformat_minor": 5
}
