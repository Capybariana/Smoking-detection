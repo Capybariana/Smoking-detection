{
 "cells": [
  {
   "cell_type": "code",
   "execution_count": 1,
   "id": "248e061b-0ea1-47b4-88d0-5b33d3fc2c6d",
   "metadata": {},
   "outputs": [],
   "source": [
    "import os\n",
    "import pandas as pd\n",
    "from pathlib import Path\n",
    "from moviepy.editor import VideoFileClip\n",
    "import re"
   ]
  },
  {
   "cell_type": "code",
   "execution_count": 3,
   "id": "22c54b3a-bdbb-4cba-a344-03df0703eb34",
   "metadata": {},
   "outputs": [],
   "source": [
    "def extract_segments(csv_path, video_path, output_dir, camera_name, timestamp):\n",
    "    df = pd.read_csv(csv_path)\n",
    "    \n",
    "    people_counts = df['People Count'].tolist()\n",
    "    times = df['Time (s)'].tolist()\n",
    "    frames = df['Frame'].tolist()\n",
    "    \n",
    "    segments = []\n",
    "    start_idx = None\n",
    "    people_streak = 0\n",
    "    zero_streak = 0\n",
    "    max_people = 0\n",
    "    \n",
    "    for i in range(len(people_counts)):\n",
    "        if people_counts[i] > 0:\n",
    "            people_streak += 1\n",
    "            zero_streak = 0\n",
    "            max_people = max(max_people, people_counts[i])\n",
    "        else:\n",
    "            zero_streak += 1\n",
    "            if zero_streak > 5:\n",
    "                if start_idx is not None:\n",
    "                    segments.append((frames[start_idx], times[start_idx], times[i], max_people))\n",
    "                    start_idx = None\n",
    "                    max_people = 0\n",
    "                zero_streak = 0\n",
    "                people_streak = 0\n",
    "        \n",
    "        if people_streak > 5 and start_idx is None:\n",
    "            start_idx = i - 5\n",
    "    \n",
    "    if start_idx is not None:\n",
    "        segments.append((frames[start_idx], times[start_idx], times[-1], max_people))\n",
    "    \n",
    "    if not segments:\n",
    "        return\n",
    "    \n",
    "    os.makedirs(output_dir, exist_ok=True)\n",
    "    \n",
    "    with VideoFileClip(video_path) as video:\n",
    "        print(\"segments for \", timestamp)\n",
    "        for idx, (frame, start, end, max_people) in enumerate(segments, 1):\n",
    "            output_file = os.path.join(output_dir, f\"{camera_name}_t{timestamp}_f{frame}_p{max_people}_{idx}.mp4\")\n",
    "            \n",
    "            clip = video.subclip(start, end)\n",
    "            clip.write_videofile(output_file, codec='libx264', audio_codec='aac', verbose=False, logger=None)\n",
    "            print(f\"Saved segment: {output_file}\")"
   ]
  },
  {
   "cell_type": "code",
   "execution_count": 4,
   "id": "6a2ab041-5df6-4464-8ed2-1149c6f1a736",
   "metadata": {},
   "outputs": [],
   "source": [
    "def main():\n",
    "    recordings_dir = \"recordings\"\n",
    "    timestamps_dir = \"timestamps\"\n",
    "    cropped_dir = \"mp4crop\"\n",
    "    \n",
    "    for cam in range(1, 6):\n",
    "        cam_folder = f\"camera{cam}\"\n",
    "        cam_path = os.path.join(recordings_dir, cam_folder)\n",
    "        out_path = os.path.join(cropped_dir, cam_folder)\n",
    "        timestamp_path = os.path.join(timestamps_dir, cam_folder)\n",
    "        \n",
    "        if not os.path.exists(cam_path) or not os.path.exists(timestamp_path):\n",
    "            continue\n",
    "        \n",
    "        for file in os.listdir(cam_path):\n",
    "            if file.endswith(\".mp4\"):\n",
    "                video_path = os.path.join(cam_path, file)\n",
    "                csv_path = os.path.join(timestamp_path, Path(file).stem + \".csv\")\n",
    "                \n",
    "                match = re.search(r\"camera\\d+_(\\d{8})_(\\d{6})\", file)\n",
    "                if match:\n",
    "                    timestamp = match.group(2)  # Получаем HHMMSS из названия файла\n",
    "                else:\n",
    "                    timestamp = \"000000\"\n",
    "                \n",
    "                if os.path.exists(csv_path):\n",
    "                    extract_segments(csv_path, video_path, out_path, cam_folder, timestamp)"
   ]
  },
  {
   "cell_type": "code",
   "execution_count": null,
   "id": "537300d9-54bc-4c5d-b6e9-5a6b0448f6e2",
   "metadata": {},
   "outputs": [
    {
     "name": "stdout",
     "output_type": "stream",
     "text": [
      "segments for  043858\n",
      "Saved segment: mp4crop/camera1/camera1_t043858_f155_p1_1.mp4\n",
      "Saved segment: mp4crop/camera1/camera1_t043858_f410_p1_2.mp4\n",
      "Saved segment: mp4crop/camera1/camera1_t043858_f565_p1_3.mp4\n",
      "Saved segment: mp4crop/camera1/camera1_t043858_f680_p5_4.mp4\n",
      "segments for  094552\n",
      "Saved segment: mp4crop/camera1/camera1_t094552_f25_p4_1.mp4\n",
      "Saved segment: mp4crop/camera1/camera1_t094552_f390_p2_2.mp4\n",
      "Saved segment: mp4crop/camera1/camera1_t094552_f1100_p3_3.mp4\n",
      "Saved segment: mp4crop/camera1/camera1_t094552_f1380_p1_4.mp4\n",
      "Saved segment: mp4crop/camera1/camera1_t094552_f1940_p5_5.mp4\n",
      "Saved segment: mp4crop/camera1/camera1_t094552_f7325_p1_6.mp4\n",
      "Saved segment: mp4crop/camera1/camera1_t094552_f7610_p3_7.mp4\n",
      "Saved segment: mp4crop/camera1/camera1_t094552_f7885_p3_8.mp4\n",
      "Saved segment: mp4crop/camera1/camera1_t094552_f8560_p3_9.mp4\n",
      "Saved segment: mp4crop/camera1/camera1_t094552_f8900_p2_10.mp4\n",
      "Saved segment: mp4crop/camera1/camera1_t094552_f9610_p2_11.mp4\n",
      "Saved segment: mp4crop/camera1/camera1_t094552_f10335_p2_12.mp4\n",
      "Saved segment: mp4crop/camera1/camera1_t094552_f11310_p2_13.mp4\n",
      "Saved segment: mp4crop/camera1/camera1_t094552_f12020_p2_14.mp4\n",
      "Saved segment: mp4crop/camera1/camera1_t094552_f12275_p2_15.mp4\n",
      "Saved segment: mp4crop/camera1/camera1_t094552_f12610_p2_16.mp4\n",
      "Saved segment: mp4crop/camera1/camera1_t094552_f12800_p2_17.mp4\n",
      "Saved segment: mp4crop/camera1/camera1_t094552_f13110_p1_18.mp4\n",
      "Saved segment: mp4crop/camera1/camera1_t094552_f13570_p5_19.mp4\n",
      "Saved segment: mp4crop/camera1/camera1_t094552_f14110_p3_20.mp4\n",
      "Saved segment: mp4crop/camera1/camera1_t094552_f14465_p2_21.mp4\n"
     ]
    }
   ],
   "source": [
    "if __name__ == \"__main__\":\n",
    "    main()"
   ]
  },
  {
   "cell_type": "code",
   "execution_count": null,
   "id": "1cea3cac-e3e7-487a-884d-3ed02e96ae88",
   "metadata": {},
   "outputs": [],
   "source": []
  }
 ],
 "metadata": {
  "kernelspec": {
   "display_name": "Python 3 (ipykernel)",
   "language": "python",
   "name": "python3"
  },
  "language_info": {
   "codemirror_mode": {
    "name": "ipython",
    "version": 3
   },
   "file_extension": ".py",
   "mimetype": "text/x-python",
   "name": "python",
   "nbconvert_exporter": "python",
   "pygments_lexer": "ipython3",
   "version": "3.10.12"
  }
 },
 "nbformat": 4,
 "nbformat_minor": 5
}
