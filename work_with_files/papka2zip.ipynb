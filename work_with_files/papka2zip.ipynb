{
 "cells": [
  {
   "cell_type": "code",
   "execution_count": 1,
   "id": "6a0c1da8-b9a1-464e-9778-26cb586e6d1d",
   "metadata": {},
   "outputs": [
    {
     "name": "stdout",
     "output_type": "stream",
     "text": [
      "camera1.zip saved\n",
      "camera5.zip saved\n"
     ]
    }
   ],
   "source": [
    "import shutil\n",
    "shutil.make_archive(\"camera1\", \"zip\", \"mp4crop/camera1\")\n",
    "print(\"camera1.zip saved\")\n",
    "shutil.make_archive(\"camera5\", \"zip\", \"mp4crop/camera5\")\n",
    "print(\"camera5.zip saved\")"
   ]
  },
  {
   "cell_type": "code",
   "execution_count": 1,
   "id": "5f61f383-bbcd-4b80-9ee1-b012b3824eaa",
   "metadata": {},
   "outputs": [
    {
     "name": "stdout",
     "output_type": "stream",
     "text": [
      "camera1.zip saved\n",
      "camera5.zip saved\n"
     ]
    }
   ],
   "source": [
    "import shutil\n",
    "shutil.make_archive(\"5_smoke\", \"zip\", \"dataset/video/smok/\")\n",
    "print(\"camera1.zip saved\")\n",
    "shutil.make_archive(\"5_net\", \"zip\", \"dataset/video/nesmok/\")\n",
    "print(\"camera5.zip saved\")"
   ]
  },
  {
   "cell_type": "code",
   "execution_count": null,
   "id": "650a7e83-80b4-4ecb-b0ee-831de3ba71b3",
   "metadata": {},
   "outputs": [],
   "source": []
  }
 ],
 "metadata": {
  "kernelspec": {
   "display_name": "Python 3 (ipykernel)",
   "language": "python",
   "name": "python3"
  },
  "language_info": {
   "codemirror_mode": {
    "name": "ipython",
    "version": 3
   },
   "file_extension": ".py",
   "mimetype": "text/x-python",
   "name": "python",
   "nbconvert_exporter": "python",
   "pygments_lexer": "ipython3",
   "version": "3.10.12"
  }
 },
 "nbformat": 4,
 "nbformat_minor": 5
}
